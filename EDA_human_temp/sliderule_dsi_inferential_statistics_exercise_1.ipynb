{
 "cells": [
  {
   "cell_type": "markdown",
   "metadata": {},
   "source": [
    "# What is the True Normal Human Body Temperature? \n",
    "\n",
    "#### Background\n",
    "\n",
    "The mean normal body temperature was held to be 37$^{\\circ}$C or 98.6$^{\\circ}$F for more than 120 years since it was first conceptualized and reported by Carl Wunderlich in a famous 1868 book. But, is this value statistically correct?"
   ]
  },
  {
   "cell_type": "markdown",
   "metadata": {},
   "source": [
    "<h3>Exercises</h3>\n",
    "\n",
    "<p>In this exercise, you will analyze a dataset of human body temperatures and employ the concepts of hypothesis testing, confidence intervals, and statistical significance.</p>\n",
    "\n",
    "<p>Answer the following questions <b>in this notebook below and submit to your Github account</b>.</p> \n",
    "\n",
    "<ol>\n",
    "<li>  Is the distribution of body temperatures normal? \n",
    "    <ul>\n",
    "    <li> Although this is not a requirement for the Central Limit Theorem to hold (read the introduction on Wikipedia's page about the CLT carefully: https://en.wikipedia.org/wiki/Central_limit_theorem), it gives us some peace of mind that the population may also be normally distributed if we assume that this sample is representative of the population.\n",
    "    <li> Think about the way you're going to check for the normality of the distribution. Graphical methods are usually used first, but there are also other ways: https://en.wikipedia.org/wiki/Normality_test\n",
    "    </ul>\n",
    "<li>  Is the sample size large? Are the observations independent?\n",
    "    <ul>\n",
    "    <li> Remember that this is a condition for the Central Limit Theorem, and hence the statistical tests we are using, to apply.\n",
    "    </ul>\n",
    "<li>  Is the true population mean really 98.6 degrees F?\n",
    "    <ul>\n",
    "    <li> First, try a bootstrap hypothesis test.\n",
    "    <li> Now, let's try frequentist statistical testing. Would you use a one-sample or two-sample test? Why?\n",
    "    <li> In this situation, is it appropriate to use the $t$ or $z$ statistic? \n",
    "    <li> Now try using the other test. How is the result be different? Why?\n",
    "    </ul>\n",
    "<li>  Draw a small sample of size 10 from the data and repeat both frequentist tests. \n",
    "    <ul>\n",
    "    <li> Which one is the correct one to use? \n",
    "    <li> What do you notice? What does this tell you about the difference in application of the $t$ and $z$ statistic?\n",
    "    </ul>\n",
    "<li>  At what temperature should we consider someone's temperature to be \"abnormal\"?\n",
    "    <ul>\n",
    "    <li> As in the previous example, try calculating everything using the boostrap approach, as well as the frequentist approach.\n",
    "    <li> Start by computing the margin of error and confidence interval. When calculating the confidence interval, keep in mind that you should use the appropriate formula for one draw, and not N draws.\n",
    "    </ul>\n",
    "<li>  Is there a significant difference between males and females in normal temperature?\n",
    "    <ul>\n",
    "    <li> What testing approach did you use and why?\n",
    "    <li> Write a story with your conclusion in the context of the original problem.\n",
    "    </ul>\n",
    "</ol>\n",
    "\n",
    "You can include written notes in notebook cells using Markdown: \n",
    "   - In the control panel at the top, choose Cell > Cell Type > Markdown\n",
    "   - Markdown syntax: http://nestacms.com/docs/creating-content/markdown-cheat-sheet\n",
    "\n",
    "#### Resources\n",
    "\n",
    "+ Information and data sources: http://www.amstat.org/publications/jse/datasets/normtemp.txt, http://www.amstat.org/publications/jse/jse_data_archive.htm\n",
    "+ Markdown syntax: http://nestacms.com/docs/creating-content/markdown-cheat-sheet\n",
    "\n",
    "****"
   ]
  },
  {
   "cell_type": "code",
   "execution_count": 1,
   "metadata": {
    "collapsed": true
   },
   "outputs": [],
   "source": [
    "import pandas as pd\n",
    "import seaborn as sns\n",
    "import matplotlib.pyplot as plt\n",
    "import numpy as np\n",
    "from scipy import stats\n",
    "\n",
    "#df = pd.read_csv('../data/human_body_temperature.csv')\n",
    "df = pd.read_csv('E://springboard//mini_project//EDA_human_temp//data/human_body_temperature.csv')"
   ]
  },
  {
   "cell_type": "markdown",
   "metadata": {},
   "source": [
    "#### Answer 1. \n",
    "The body temperature can be seen as normal distribution from above graphical and statistical analysis. "
   ]
  },
  {
   "cell_type": "code",
   "execution_count": 2,
   "metadata": {},
   "outputs": [
    {
     "data": {
      "image/png": "[encoded data removed]",
      "text/plain": [
       "<matplotlib.figure.Figure at 0x2343f33a2b0>"
      ]
     },
     "metadata": {},
     "output_type": "display_data"
    }
   ],
   "source": [
    "# Your work here.\n",
    "\n",
    "# plot the temperature data\n",
    "_ = plt.hist(df['temperature'])\n",
    "plt.xlabel('Body Temperature')\n",
    "plt.ylabel('Count')\n",
    "plt.show()"
   ]
  },
  {
   "cell_type": "code",
   "execution_count": 3,
   "metadata": {},
   "outputs": [
    {
     "name": "stdout",
     "output_type": "stream",
     "text": [
      "Sample looks like Normal Distribution (Null Hypothesis is accepted)\n"
     ]
    }
   ],
   "source": [
    "# statistical analysis on test of normal distribution\n",
    "from scipy.stats import shapiro\n",
    "stat, p = shapiro(df['temperature'])\n",
    "if p > 0.05:\n",
    "    print('Sample looks like Normal Distribution (Null Hypothesis is accepted)')\n",
    "else:\n",
    "    print('Sample does not Normal Distribution (Null Hypothesis is rejected)')"
   ]
  },
  {
   "cell_type": "markdown",
   "metadata": {},
   "source": [
    "#### Answer 2\n",
    "The sample size is large enough. Although there is no replacement for sampling, our sample size is pretty large. We can see our observations as independent."
   ]
  },
  {
   "cell_type": "code",
   "execution_count": 4,
   "metadata": {},
   "outputs": [
    {
     "name": "stdout",
     "output_type": "stream",
     "text": [
      "The sampling data is large enough\n"
     ]
    }
   ],
   "source": [
    "if len(df['temperature']) > 10:\n",
    "    print('The sampling data is large enough')\n",
    "else:\n",
    "    print('The sampling data is not large enough')"
   ]
  },
  {
   "cell_type": "markdown",
   "metadata": {},
   "source": [
    "#### Answer 3\n",
    "\n",
    "<p>Bootstrapping test shows May Not.</p>\n",
    "\n",
    "<p>T test shows May Not. One sample testing is selected. In this sample, only one sample and its expected true mean of population is told. </p> \n",
    "\n",
    "<p>It is not appropriate to use t or z statistics directly. In t statistics, the sample size would be less than 30. z statistics needs to know the true standard deviation of population. We do not know that yet </p>\n",
    "\n",
    "<p> p-value of z statistics is less than t-statistics. the sample size is larger than 30. It is better for z statistics.</p>"
   ]
  },
  {
   "cell_type": "code",
   "execution_count": 5,
   "metadata": {
    "collapsed": true
   },
   "outputs": [],
   "source": [
    "def bootstrap_replicate_1d(data, func):\n",
    "    return func(np.random.choice(data, size=len(data)))\n",
    "\n",
    "def draw_bs_reps(data, func, size=1):\n",
    "    \"\"\"Draw bootstrap replicates.\"\"\"\n",
    "\n",
    "    # Initialize array of replicates: bs_replicates\n",
    "    bs_replicates = np.empty(size)\n",
    "\n",
    "    # Generate replicates\n",
    "    for i in range(size):\n",
    "        bs_replicates[i] = bootstrap_replicate_1d(data, func)\n",
    "\n",
    "    return bs_replicates"
   ]
  },
  {
   "cell_type": "code",
   "execution_count": 6,
   "metadata": {},
   "outputs": [
    {
     "name": "stdout",
     "output_type": "stream",
     "text": [
      "p: 0.0 Bootstrapping test: The true population mean may not be really 98.6 degrees F (Null Hypothesis is rejected)\n"
     ]
    }
   ],
   "source": [
    "temp = df['temperature'].values\n",
    "temp_shifted = temp - np.mean(temp) + 98.6\n",
    "bs_replicates_temp = draw_bs_reps(temp_shifted, np.mean, 10000)\n",
    "p = np.sum( bs_replicates_temp <= np.mean(temp)) / 10000\n",
    "if p > 0.05:\n",
    "    print('p:', p, 'Bootstrapping test: The true population mean is really 98.6 degrees F \\\n",
    "(Null Hypothesis is accepted)')\n",
    "else:\n",
    "    print('p:', p, 'Bootstrapping test: The true population mean may not be really 98.6 degrees F \\\n",
    "(Null Hypothesis is rejected)')"
   ]
  },
  {
   "cell_type": "code",
   "execution_count": 10,
   "metadata": {},
   "outputs": [
    {
     "name": "stdout",
     "output_type": "stream",
     "text": [
      "p: 2.41063204156e-07 t test: The true population mean may not be really 98.6 degrees F (Null Hypothesis is rejected)\n"
     ]
    }
   ],
   "source": [
    "# try t test\n",
    "\n",
    "stat, pvalue = stats.ttest_1samp(temp, 98.6)\n",
    "if pvalue > 0.05:\n",
    "    print('p:', pvalue, 't test: The true population mean is really 98.6 degrees F \\\n",
    "    (Null Hypothesis is accepted)')\n",
    "else:\n",
    "    print('p:', pvalue, 't test: The true population mean may not be really 98.6 degrees F \\\n",
    "(Null Hypothesis is rejected)')"
   ]
  },
  {
   "cell_type": "code",
   "execution_count": 11,
   "metadata": {},
   "outputs": [
    {
     "name": "stdout",
     "output_type": "stream",
     "text": [
      "p: 4.9021570141e-08 z test: The true population mean may not be really 98.6 degrees F (Null Hypothesis is rejected)\n"
     ]
    }
   ],
   "source": [
    "# try z test\n",
    "\n",
    "from statsmodels.stats import weightstats as stests\n",
    "\n",
    "ztest ,pval = stests.ztest(temp, x2=None, value=98.6)\n",
    "if pval > 0.05:\n",
    "    print('p:', pval, 'z test: The true population mean is really 98.6 degrees F (Null Hypothesis is accepted)')\n",
    "else:\n",
    "    print('p:', pval, 'z test: The true population mean may not be really 98.6 degrees F \\\n",
    "(Null Hypothesis is rejected)')"
   ]
  },
  {
   "cell_type": "markdown",
   "metadata": {},
   "source": [
    "#### Answer 4\n",
    "<p>t statistics is appropriate to use because the sample size is less than 30.</p>\n",
    "\n",
    "<p>P-value of both statistics increase and the null hypothesis is accepted. The sample size really matters when choosing the statistics.Meanwhile, the true mean and standard deviation of population are also very important to determine which statistics to choose. </p>"
   ]
  },
  {
   "cell_type": "code",
   "execution_count": 12,
   "metadata": {},
   "outputs": [
    {
     "name": "stdout",
     "output_type": "stream",
     "text": [
      "p: 0.144691524455 t test: The true population mean is really 98.6 degrees F (Null Hypothesis is accepted)\n"
     ]
    }
   ],
   "source": [
    "sample = np.random.choice(temp, 30)\n",
    "tstat, pvalue = stats.ttest_1samp(sample, 98.6)\n",
    "if pvalue > 0.05:\n",
    "    print('p:', pvalue, 't test: The true population mean is really 98.6 degrees F (Null Hypothesis is accepted)')\n",
    "else:\n",
    "    print('p:', pvalue, 't test: The true population mean may not be really 98.6 degrees F\\\n",
    "(Null Hypothesis is rejected)')"
   ]
  },
  {
   "cell_type": "code",
   "execution_count": 13,
   "metadata": {},
   "outputs": [
    {
     "name": "stdout",
     "output_type": "stream",
     "text": [
      "p: 0.13388343978 z test: The true population mean is really 98.6 degrees F (Null Hypothesis is accepted)\n"
     ]
    }
   ],
   "source": [
    "ztest, pval = stests.ztest(sample, x2=None, value=98.6)\n",
    "if pval > 0.05:\n",
    "    print('p:', pval, 'z test: The true population mean is really 98.6 degrees F (Null Hypothesis is accepted)')\n",
    "else:\n",
    "    print('p:', pval, 'z test: The true population mean may not be really 98.6 degrees F \\\n",
    "(Null Hypothesis is rejected)')"
   ]
  },
  {
   "cell_type": "code",
   "execution_count": 16,
   "metadata": {},
   "outputs": [
    {
     "name": "stdout",
     "output_type": "stream",
     "text": [
      "p: 0.5 Bootstrapping test: The true population mean is really 98.6 degrees F (Null Hypothesis is accepted)\n"
     ]
    }
   ],
   "source": [
    "#sample_shifted = sample - np.mean(sample) + 98.6\n",
    "bs_replicates = draw_bs_reps(sample, np.mean, 10)\n",
    "p = np.sum( bs_replicates <= np.mean(sample)) / 10\n",
    "if p > 0.05:\n",
    "    print('p:', p, 'Bootstrapping test: The true population mean is really 98.6 degrees F \\\n",
    "(Null Hypothesis is accepted)')\n",
    "else:\n",
    "    print('p:', p, 'Bootstrapping test: The true population mean may not be really 98.6 degrees F \\\n",
    "(Null Hypothesis is rejected)')"
   ]
  },
  {
   "cell_type": "markdown",
   "metadata": {},
   "source": [
    "#### Answer 5\n",
    "<p>Bootstrap appraoch is also used below.</p>\n",
    "\n",
    "<p>We find Temperature beyond  (97.580494464359049, 98.779505535640936)  is seen \"abnormal\".</p>"
   ]
  },
  {
   "cell_type": "code",
   "execution_count": 12,
   "metadata": {},
   "outputs": [
    {
     "name": "stdout",
     "output_type": "stream",
     "text": [
      "Temperature beyond  (97.796558646060419, 98.70190289240108)  is seen \"abnormal\".\n"
     ]
    }
   ],
   "source": [
    "z_critical = stats.norm.ppf(q = 0.975)\n",
    "std = temp.std()\n",
    "margin_of_error = z_critical * (std / np.sqrt(10))\n",
    "confidence_interval = (temp.mean() - margin_of_error,\n",
    "                      temp.mean() + margin_of_error)\n",
    "print('Temperature beyond ', confidence_interval, ' is seen \"abnormal\".')"
   ]
  },
  {
   "cell_type": "markdown",
   "metadata": {},
   "source": [
    "#### Answer 6\n",
    "<p>ks test is used in this statistical testing. the sampling sizes of male and female are over 30. Meanwhile, we are comparing two sampling significance difference. Two samples of KS test can meet these requirements. </p>\n",
    "\n",
    "<p>From the investigation by Carl Wunderlich， we raise a few questions: \n",
    "    <ul>\n",
    "        <li>The human body's average temperture is really 37C or 98.6 F degree? \n",
    "        <li>What kind of temperature should be seen as 'abnormal'?\n",
    "        <li>Is there any significant difference between males and females in normal temperature?\n",
    "    </ul>\n",
    "\n",
    "We need to implement EDA for these questions, compose our hypothesis and rephrase our questions:\n",
    "    <ul>\n",
    "        <li> H0: The human body's average temperture is really 37C or 98.6 F degree \n",
    "        <li> Ha: The human body's average temperture may not be really 37C or 98.6 F degree \n",
    "    </ul>\n",
    "    <ul>\n",
    "        <li>What confidence intervals of temperature should be?\n",
    "    </ul>\n",
    "    <ul>\n",
    "        <li> H0: There is no significant difference between males and females in normal temperature?\n",
    "        <li> Ha: There is no significant difference between males and females in normal temperature?\n",
    "    </ul>\n",
    "    \n",
    "Through our statistics, we find a few conclusions:\n",
    "    <ul>\n",
    "        <li>The human body's average temperture may not be really 37C or 98.6 F degree. \n",
    "        <li>Temperature between 97.796558646060419, 98.70190289240108 F degree should be seen as 'abnormal'.\n",
    "        <li>There is no significant difference between males and females in normal temperature.\n",
    "    </ul>\n",
    "\n",
    "</p>"
   ]
  },
  {
   "cell_type": "code",
   "execution_count": 13,
   "metadata": {
    "collapsed": true
   },
   "outputs": [],
   "source": [
    "temp_m = df[(df['gender'] == 'M') & (df['temperature'] >= confidence_interval[0]) &\\\n",
    "            (df['temperature'] <= confidence_interval[1])]['temperature'].values\n",
    "temp_f = df[(df['gender'] == 'F') & (df['temperature'] >= confidence_interval[0]) &\\\n",
    "            (df['temperature'] <= confidence_interval[1])]['temperature'].values"
   ]
  },
  {
   "cell_type": "code",
   "execution_count": 14,
   "metadata": {
    "collapsed": true
   },
   "outputs": [],
   "source": [
    "def ecdf(data):\n",
    "    \"\"\"Compute ECDF for a one-dimensional array of measurements.\"\"\"\n",
    "    # Number of data points: n\n",
    "    n = len(data)\n",
    "\n",
    "    # x-data for the ECDF: x\n",
    "    x = np.sort(data)\n",
    "\n",
    "    # y-data for the ECDF: y\n",
    "    y = np.arange(1, n+1) / n\n",
    "\n",
    "    return x, y"
   ]
  },
  {
   "cell_type": "code",
   "execution_count": 15,
   "metadata": {
    "collapsed": true
   },
   "outputs": [],
   "source": [
    "x, y = ecdf(temp)\n",
    "x_m, y_m = ecdf(temp_m)\n",
    "x_f, y_f = ecdf(temp_f)"
   ]
  },
  {
   "cell_type": "code",
   "execution_count": 16,
   "metadata": {},
   "outputs": [
    {
     "data": {
      "image/png": "[encoded data removed]",
      "text/plain": [
       "<matplotlib.figure.Figure at 0x22395668358>"
      ]
     },
     "metadata": {},
     "output_type": "display_data"
    }
   ],
   "source": [
    "_ = plt.plot(x_m, y_m, marker='.', linestyle='none')\n",
    "_ = plt.plot(x_f, y_f, marker='.', linestyle='none', color='red')\n",
    "_ = plt.plot(x, y, marker='.', color='grey')\n",
    "plt.show()"
   ]
  },
  {
   "cell_type": "code",
   "execution_count": 18,
   "metadata": {
    "collapsed": true
   },
   "outputs": [],
   "source": [
    "kstat, ksp = stats.ks_2samp(temp_m, temp_f)"
   ]
  },
  {
   "cell_type": "code",
   "execution_count": 21,
   "metadata": {},
   "outputs": [
    {
     "name": "stdout",
     "output_type": "stream",
     "text": [
      "p: 0.987383785764 ks test: The true population mean is really 98.6 degrees F (Null Hypothesis is accepted)\n"
     ]
    }
   ],
   "source": [
    "if ksp > 0.05:\n",
    "    print('p:', ksp, 'ks test: There is no significance difference  between males and females in normal temperature \\\n",
    "(Null Hypothesis is accepted)')\n",
    "else:\n",
    "    print('p:', ksp, 'ks test: There is significance difference  between males and females in normal temperature\\\n",
    "(Null Hypothesis is rejected)')"
   ]
  }
 ],
 "metadata": {
  "kernelspec": {
   "display_name": "Python 3",
   "language": "python",
   "name": "python3"
  },
  "language_info": {
   "codemirror_mode": {
    "name": "ipython",
    "version": 3
   },
   "file_extension": ".py",
   "mimetype": "text/x-python",
   "name": "python",
   "nbconvert_exporter": "python",
   "pygments_lexer": "ipython3",
   "version": "3.6.3"
  }
 },
 "nbformat": 4,
 "nbformat_minor": 1
}
